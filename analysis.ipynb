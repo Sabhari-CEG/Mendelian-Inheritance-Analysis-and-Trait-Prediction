{
 "cells": [
  {
   "cell_type": "code",
   "execution_count": 2,
   "metadata": {},
   "outputs": [],
   "source": [
    "import pandas as pd"
   ]
  },
  {
   "cell_type": "code",
   "execution_count": 3,
   "metadata": {},
   "outputs": [
    {
     "name": "stderr",
     "output_type": "stream",
     "text": [
      "C:\\Users\\Hp\\AppData\\Local\\Temp\\ipykernel_7404\\757149404.py:1: DtypeWarning: Columns (1) have mixed types. Specify dtype option on import or set low_memory=False.\n",
      "  father_data = pd.read_csv(\"Father Genome.csv\")\n",
      "C:\\Users\\Hp\\AppData\\Local\\Temp\\ipykernel_7404\\757149404.py:2: DtypeWarning: Columns (1) have mixed types. Specify dtype option on import or set low_memory=False.\n",
      "  mother_data = pd.read_csv(\"Mother Genome.csv\")\n",
      "C:\\Users\\Hp\\AppData\\Local\\Temp\\ipykernel_7404\\757149404.py:3: DtypeWarning: Columns (1) have mixed types. Specify dtype option on import or set low_memory=False.\n",
      "  child1_data = pd.read_csv(\"Child 1 Genome.csv\")\n"
     ]
    }
   ],
   "source": [
    "father_data = pd.read_csv(\"Father Genome.csv\")\n",
    "mother_data = pd.read_csv(\"Mother Genome.csv\")\n",
    "child1_data = pd.read_csv(\"Child 1 Genome.csv\")"
   ]
  },
  {
   "cell_type": "code",
   "execution_count": 4,
   "metadata": {},
   "outputs": [
    {
     "data": {
      "text/html": [
       "<div>\n",
       "<style scoped>\n",
       "    .dataframe tbody tr th:only-of-type {\n",
       "        vertical-align: middle;\n",
       "    }\n",
       "\n",
       "    .dataframe tbody tr th {\n",
       "        vertical-align: top;\n",
       "    }\n",
       "\n",
       "    .dataframe thead th {\n",
       "        text-align: right;\n",
       "    }\n",
       "</style>\n",
       "<table border=\"1\" class=\"dataframe\">\n",
       "  <thead>\n",
       "    <tr style=\"text-align: right;\">\n",
       "      <th></th>\n",
       "      <th># rsid</th>\n",
       "      <th>chromosome</th>\n",
       "      <th>position</th>\n",
       "      <th>genotype</th>\n",
       "    </tr>\n",
       "  </thead>\n",
       "  <tbody>\n",
       "    <tr>\n",
       "      <th>0</th>\n",
       "      <td>rs12564807</td>\n",
       "      <td>1</td>\n",
       "      <td>734462</td>\n",
       "      <td>AA</td>\n",
       "    </tr>\n",
       "    <tr>\n",
       "      <th>1</th>\n",
       "      <td>rs3131972</td>\n",
       "      <td>1</td>\n",
       "      <td>752721</td>\n",
       "      <td>AG</td>\n",
       "    </tr>\n",
       "    <tr>\n",
       "      <th>2</th>\n",
       "      <td>rs148828841</td>\n",
       "      <td>1</td>\n",
       "      <td>760998</td>\n",
       "      <td>AC</td>\n",
       "    </tr>\n",
       "    <tr>\n",
       "      <th>3</th>\n",
       "      <td>rs12124819</td>\n",
       "      <td>1</td>\n",
       "      <td>776546</td>\n",
       "      <td>AA</td>\n",
       "    </tr>\n",
       "    <tr>\n",
       "      <th>4</th>\n",
       "      <td>rs115093905</td>\n",
       "      <td>1</td>\n",
       "      <td>787173</td>\n",
       "      <td>GG</td>\n",
       "    </tr>\n",
       "  </tbody>\n",
       "</table>\n",
       "</div>"
      ],
      "text/plain": [
       "        # rsid chromosome  position genotype\n",
       "0   rs12564807          1    734462       AA\n",
       "1    rs3131972          1    752721       AG\n",
       "2  rs148828841          1    760998       AC\n",
       "3   rs12124819          1    776546       AA\n",
       "4  rs115093905          1    787173       GG"
      ]
     },
     "execution_count": 4,
     "metadata": {},
     "output_type": "execute_result"
    }
   ],
   "source": [
    "father_data.head()"
   ]
  },
  {
   "cell_type": "code",
   "execution_count": 6,
   "metadata": {},
   "outputs": [],
   "source": [
    "merged_data = father_data.merge(mother_data, on=[\"# rsid\", \"chromosome\", \"position\"], suffixes=('_father', '_mother'))\n",
    "merged_data = merged_data.merge(child1_data, on=[\"# rsid\", \"chromosome\", \"position\"])\n",
    "merged_data.rename(columns={\"genotype\": \"genotype_child\"}, inplace=True)"
   ]
  },
  {
   "cell_type": "code",
   "execution_count": 7,
   "metadata": {},
   "outputs": [],
   "source": [
    "def analyze_inheritance(row):\n",
    "    father_alleles = set(row['genotype_father'])\n",
    "    mother_alleles = set(row['genotype_mother'])\n",
    "    child_alleles = set(row['genotype_child'])\n",
    "    \n",
    "    # Check if child's alleles are consistent with parental alleles\n",
    "    if child_alleles.issubset(father_alleles.union(mother_alleles)):\n",
    "        return \"Consistent\"\n",
    "    else:\n",
    "        return \"Inconsistent\""
   ]
  },
  {
   "cell_type": "code",
   "execution_count": 8,
   "metadata": {},
   "outputs": [],
   "source": [
    "merged_data[\"inheritance\"] = merged_data.apply(analyze_inheritance, axis=1)"
   ]
  },
  {
   "cell_type": "code",
   "execution_count": 11,
   "metadata": {},
   "outputs": [
    {
     "name": "stdout",
     "output_type": "stream",
     "text": [
      "             # rsid chromosome  position genotype_father genotype_mother  \\\n",
      "0        rs12564807          1    734462              AA              AA   \n",
      "1         rs3131972          1    752721              AG              GG   \n",
      "2       rs148828841          1    760998              AC              CC   \n",
      "3        rs12124819          1    776546              AA              AG   \n",
      "4       rs115093905          1    787173              GG              GG   \n",
      "...             ...        ...       ...             ...             ...   \n",
      "601797     i4000757         MT     16526               G               G   \n",
      "601798      i701671         MT     16526               G               G   \n",
      "601799     i4990307         MT     16527               C               C   \n",
      "601800     i4000756         MT     16540               C               C   \n",
      "601801     i3001931         MT     16547               C               C   \n",
      "\n",
      "       genotype_child inheritance  \n",
      "0                  AA  Consistent  \n",
      "1                  AG  Consistent  \n",
      "2                  AC  Consistent  \n",
      "3                  AG  Consistent  \n",
      "4                  GG  Consistent  \n",
      "...               ...         ...  \n",
      "601797              G  Consistent  \n",
      "601798              G  Consistent  \n",
      "601799              C  Consistent  \n",
      "601800              C  Consistent  \n",
      "601801              C  Consistent  \n",
      "\n",
      "[601802 rows x 7 columns]\n"
     ]
    }
   ],
   "source": [
    "print(merged_data)"
   ]
  },
  {
   "cell_type": "code",
   "execution_count": 12,
   "metadata": {},
   "outputs": [],
   "source": [
    "def check_homozygosity(genotype):\n",
    "    # Check if the genotype is empty or malformed\n",
    "    if not genotype or len(genotype) < 2:  # Empty or too short\n",
    "        return \"Malformed or Empty\"\n",
    "    # Check if both alleles are the same\n",
    "    return \"Homozygous\" if genotype[0] == genotype[1] else \"Heterozygous\""
   ]
  },
  {
   "cell_type": "code",
   "execution_count": 14,
   "metadata": {},
   "outputs": [
    {
     "name": "stdout",
     "output_type": "stream",
     "text": [
      "             # rsid chromosome  position genotype_father genotype_mother  \\\n",
      "0        rs12564807          1    734462              AA              AA   \n",
      "1         rs3131972          1    752721              AG              GG   \n",
      "2       rs148828841          1    760998              AC              CC   \n",
      "3        rs12124819          1    776546              AA              AG   \n",
      "4       rs115093905          1    787173              GG              GG   \n",
      "...             ...        ...       ...             ...             ...   \n",
      "601797     i4000757         MT     16526               G               G   \n",
      "601798      i701671         MT     16526               G               G   \n",
      "601799     i4990307         MT     16527               C               C   \n",
      "601800     i4000756         MT     16540               C               C   \n",
      "601801     i3001931         MT     16547               C               C   \n",
      "\n",
      "       genotype_child inheritance  child_homozygosity  \n",
      "0                  AA  Consistent          Homozygous  \n",
      "1                  AG  Consistent        Heterozygous  \n",
      "2                  AC  Consistent        Heterozygous  \n",
      "3                  AG  Consistent        Heterozygous  \n",
      "4                  GG  Consistent          Homozygous  \n",
      "...               ...         ...                 ...  \n",
      "601797              G  Consistent  Malformed or Empty  \n",
      "601798              G  Consistent  Malformed or Empty  \n",
      "601799              C  Consistent  Malformed or Empty  \n",
      "601800              C  Consistent  Malformed or Empty  \n",
      "601801              C  Consistent  Malformed or Empty  \n",
      "\n",
      "[601802 rows x 8 columns]\n"
     ]
    }
   ],
   "source": [
    "merged_data[\"child_homozygosity\"] = merged_data[\"genotype_child\"].apply(check_homozygosity)\n",
    "print(merged_data[[\"# rsid\", \"chromosome\", \"position\", \"genotype_father\", \n",
    "                   \"genotype_mother\", \"genotype_child\", \"inheritance\", \n",
    "                   \"child_homozygosity\"]])"
   ]
  },
  {
   "cell_type": "code",
   "execution_count": 15,
   "metadata": {},
   "outputs": [],
   "source": [
    "merged_data.to_csv(\"Inheritance_Analysis.csv\", index=False)"
   ]
  },
  {
   "cell_type": "code",
   "execution_count": 16,
   "metadata": {},
   "outputs": [],
   "source": [
    "trait_database = {\n",
    "    \"rs815743\": {\"trait\": \"Eye Color Variation\", \"risk_allele\": \"A\"},\n",
    "    \"rs823552\": {\"trait\": \"Increased Risk of Diabetes\", \"risk_allele\": \"G\"},\n",
    "    \"rs780331\": {\"trait\": \"Height Variation\", \"risk_allele\": \"T\"},\n",
    "    \"rs709746\": {\"trait\": \"Lactose Intolerance\", \"risk_allele\": \"C\"},\n",
    "    \"rs976199\": {\"trait\": \"Cardiovascular Risk\", \"risk_allele\": \"G\"},\n",
    "    \"rs123456\": {\"trait\": \"Skin Pigmentation\", \"risk_allele\": \"C\"},\n",
    "    \"rs654321\": {\"trait\": \"Obesity Risk\", \"risk_allele\": \"T\"},\n",
    "    \"rs789012\": {\"trait\": \"Allergy Susceptibility\", \"risk_allele\": \"A\"},\n",
    "    \"rs345678\": {\"trait\": \"Bone Density Variation\", \"risk_allele\": \"G\"},\n",
    "    \"rs901234\": {\"trait\": \"Immune Response\", \"risk_allele\": \"T\"}\n",
    "}"
   ]
  },
  {
   "cell_type": "code",
   "execution_count": 22,
   "metadata": {},
   "outputs": [],
   "source": [
    "def predict_traits(row):\n",
    "    rsid = row[\"# rsid\"]\n",
    "    if rsid in trait_database:\n",
    "        risk_allele = trait_database[rsid][\"risk_allele\"]\n",
    "        trait = trait_database[rsid][\"trait\"]\n",
    "        if risk_allele in row[\"genotype_child\"]:\n",
    "            return f\"Risk for {trait}\"\n",
    "        else:\n",
    "            return f\"No risk for {trait}\"\n",
    "    return \"No data\""
   ]
  },
  {
   "cell_type": "code",
   "execution_count": 23,
   "metadata": {},
   "outputs": [],
   "source": [
    "merged_data[\"trait_prediction\"] = merged_data.apply(predict_traits, axis=1)"
   ]
  },
  {
   "cell_type": "code",
   "execution_count": 24,
   "metadata": {},
   "outputs": [
    {
     "name": "stdout",
     "output_type": "stream",
     "text": [
      "             # rsid genotype_child trait_prediction\n",
      "0        rs12564807             AA          No data\n",
      "1         rs3131972             AG          No data\n",
      "2       rs148828841             AC          No data\n",
      "3        rs12124819             AG          No data\n",
      "4       rs115093905             GG          No data\n",
      "...             ...            ...              ...\n",
      "601797     i4000757              G          No data\n",
      "601798      i701671              G          No data\n",
      "601799     i4990307              C          No data\n",
      "601800     i4000756              C          No data\n",
      "601801     i3001931              C          No data\n",
      "\n",
      "[601802 rows x 3 columns]\n"
     ]
    }
   ],
   "source": [
    "print(merged_data[[\"# rsid\", \"genotype_child\", \"trait_prediction\"]])"
   ]
  },
  {
   "cell_type": "code",
   "execution_count": 25,
   "metadata": {},
   "outputs": [],
   "source": [
    "merged_data.to_csv(\"Child_result_Trait_Predictions.csv\", index=False)"
   ]
  },
  {
   "cell_type": "code",
   "execution_count": 26,
   "metadata": {},
   "outputs": [
    {
     "name": "stderr",
     "output_type": "stream",
     "text": [
      "C:\\Users\\Hp\\AppData\\Local\\Temp\\ipykernel_7404\\3612181664.py:1: DtypeWarning: Columns (1) have mixed types. Specify dtype option on import or set low_memory=False.\n",
      "  data = pd.read_csv(\"Child_result_Trait_Predictions.csv\")\n"
     ]
    }
   ],
   "source": [
    "data = pd.read_csv(\"Child_result_Trait_Predictions.csv\")"
   ]
  },
  {
   "cell_type": "code",
   "execution_count": 27,
   "metadata": {},
   "outputs": [],
   "source": [
    "def calculate_confidence(data):\n",
    "    # Count total SNPs\n",
    "    total_snps = len(data)\n",
    "    # Count consistent SNPs\n",
    "    consistent_snps = len(data[data['inheritance'] == 'Consistent'])\n",
    "    # Calculate confidence percentage\n",
    "    confidence = (consistent_snps / total_snps) * 100\n",
    "    return total_snps, consistent_snps, confidence"
   ]
  },
  {
   "cell_type": "code",
   "execution_count": 28,
   "metadata": {},
   "outputs": [
    {
     "name": "stdout",
     "output_type": "stream",
     "text": [
      "Analysis of Child_result_Trait_Predictions.csv:\n",
      "Total SNPs analyzed: 601802\n",
      "Consistent SNPs: 596351\n",
      "Confidence that the child belongs to these parents: 99.09%\n"
     ]
    }
   ],
   "source": [
    "total_snps, consistent_snps, confidence = calculate_confidence(data)\n",
    "\n",
    "# Display results\n",
    "print(\"Analysis of Child_result_Trait_Predictions.csv:\")\n",
    "print(f\"Total SNPs analyzed: {total_snps}\")\n",
    "print(f\"Consistent SNPs: {consistent_snps}\")\n",
    "print(f\"Confidence that the child belongs to these parents: {confidence:.2f}%\")\n",
    "\n",
    "# Save the results to a new CSV file with additional summary information\n",
    "data['confidence'] = f\"{confidence:.2f}%\"\n",
    "data.to_csv(\"Child_Inheritance_Confidence_Analysis.csv\", index=False)"
   ]
  },
  {
   "cell_type": "code",
   "execution_count": null,
   "metadata": {},
   "outputs": [],
   "source": []
  }
 ],
 "metadata": {
  "kernelspec": {
   "display_name": "Python 3",
   "language": "python",
   "name": "python3"
  },
  "language_info": {
   "codemirror_mode": {
    "name": "ipython",
    "version": 3
   },
   "file_extension": ".py",
   "mimetype": "text/x-python",
   "name": "python",
   "nbconvert_exporter": "python",
   "pygments_lexer": "ipython3",
   "version": "3.12.3"
  }
 },
 "nbformat": 4,
 "nbformat_minor": 2
}
